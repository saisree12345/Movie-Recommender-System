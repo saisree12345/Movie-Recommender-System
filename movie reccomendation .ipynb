{
 "cells": [
  {
   "cell_type": "code",
   "execution_count": 26,
   "id": "fdece8e2",
   "metadata": {},
   "outputs": [
    {
     "name": "stdout",
     "output_type": "stream",
     "text": [
      "          id                                          title  \\\n",
      "0        278                       The Shawshank Redemption   \n",
      "1      19404                    Dilwale Dulhania Le Jayenge   \n",
      "2        238                                  The Godfather   \n",
      "3        424                               Schindler's List   \n",
      "4        240                         The Godfather: Part II   \n",
      "...      ...                                            ...   \n",
      "9995   10196                             The Last Airbender   \n",
      "9996  331446                       Sharknado 3: Oh Hell No!   \n",
      "9997   13995                                Captain America   \n",
      "9998    2312  In the Name of the King: A Dungeon Siege Tale   \n",
      "9999  455957                                         Domino   \n",
      "\n",
      "                                                 genre original_language  \\\n",
      "0                                          Drama,Crime                en   \n",
      "1                                 Comedy,Drama,Romance                hi   \n",
      "2                                          Drama,Crime                en   \n",
      "3                                    Drama,History,War                en   \n",
      "4                                          Drama,Crime                en   \n",
      "...                                                ...               ...   \n",
      "9995                          Action,Adventure,Fantasy                en   \n",
      "9996  Action,TV Movie,Science Fiction,Comedy,Adventure                en   \n",
      "9997                        Action,Science Fiction,War                en   \n",
      "9998                    Adventure,Fantasy,Action,Drama                en   \n",
      "9999                             Thriller,Action,Crime                en   \n",
      "\n",
      "                                               overview  popularity  \\\n",
      "0     Framed in the 1940s for the double murder of h...      94.075   \n",
      "1     Raj is a rich, carefree, happy-go-lucky second...      25.408   \n",
      "2     Spanning the years 1945 to 1955, a chronicle o...      90.585   \n",
      "3     The true story of how businessman Oskar Schind...      44.761   \n",
      "4     In the continuing saga of the Corleone crime f...      57.749   \n",
      "...                                                 ...         ...   \n",
      "9995  The story follows the adventures of Aang, a yo...      98.322   \n",
      "9996  The sharks take bite out of the East Coast whe...      12.490   \n",
      "9997  During World War II, a brave, patriotic Americ...      18.333   \n",
      "9998  A man named Farmer sets out to rescue his kidn...      15.159   \n",
      "9999  Seeking justice for his partner’s murder by an...      16.482   \n",
      "\n",
      "     release_date  vote_average  vote_count  \n",
      "0      1994-09-23           8.7       21862  \n",
      "1      1995-10-19           8.7        3731  \n",
      "2      1972-03-14           8.7       16280  \n",
      "3      1993-12-15           8.6       12959  \n",
      "4      1974-12-20           8.6        9811  \n",
      "...           ...           ...         ...  \n",
      "9995   2010-06-30           4.7        3347  \n",
      "9996   2015-07-22           4.7         417  \n",
      "9997   1990-12-14           4.6         332  \n",
      "9998   2007-11-29           4.7         668  \n",
      "9999   2019-05-31           4.6         221  \n",
      "\n",
      "[10000 rows x 9 columns]\n"
     ]
    }
   ],
   "source": [
    "import numpy as np\n",
    "import pandas as pd\n",
    "df=pd.read_csv('top10K-TMDB-movies.csv')\n",
    "print(df)"
   ]
  },
  {
   "cell_type": "code",
   "execution_count": 27,
   "id": "e330735a",
   "metadata": {},
   "outputs": [
    {
     "name": "stdout",
     "output_type": "stream",
     "text": [
      "id                    0\n",
      "title                 0\n",
      "genre                 3\n",
      "original_language     0\n",
      "overview             13\n",
      "popularity            0\n",
      "release_date          0\n",
      "vote_average          0\n",
      "vote_count            0\n",
      "dtype: int64\n",
      "                  id    popularity  vote_average    vote_count\n",
      "count   10000.000000  10000.000000  10000.000000  10000.000000\n",
      "mean   161243.505000     34.697267      6.621150   1547.309400\n",
      "std    211422.046043    211.684175      0.766231   2648.295789\n",
      "min         5.000000      0.600000      4.600000    200.000000\n",
      "25%     10127.750000      9.154750      6.100000    315.000000\n",
      "50%     30002.500000     13.637500      6.600000    583.500000\n",
      "75%    310133.500000     25.651250      7.200000   1460.000000\n",
      "max    934761.000000  10436.917000      8.700000  31917.000000\n",
      "<class 'pandas.core.frame.DataFrame'>\n",
      "RangeIndex: 10000 entries, 0 to 9999\n",
      "Data columns (total 9 columns):\n",
      " #   Column             Non-Null Count  Dtype  \n",
      "---  ------             --------------  -----  \n",
      " 0   id                 10000 non-null  int64  \n",
      " 1   title              10000 non-null  object \n",
      " 2   genre              9997 non-null   object \n",
      " 3   original_language  10000 non-null  object \n",
      " 4   overview           9987 non-null   object \n",
      " 5   popularity         10000 non-null  float64\n",
      " 6   release_date       10000 non-null  object \n",
      " 7   vote_average       10000 non-null  float64\n",
      " 8   vote_count         10000 non-null  int64  \n",
      "dtypes: float64(2), int64(2), object(5)\n",
      "memory usage: 703.2+ KB\n",
      "None\n"
     ]
    }
   ],
   "source": [
    "a=df.isnull().sum()\n",
    "print(a)\n",
    "b=df.describe()\n",
    "print(b)\n",
    "c=df.info()\n",
    "print(c)"
   ]
  },
  {
   "cell_type": "code",
   "execution_count": 28,
   "id": "97c4d971",
   "metadata": {},
   "outputs": [],
   "source": [
    "#Feature selection part"
   ]
  },
  {
   "cell_type": "code",
   "execution_count": 29,
   "id": "07aba4e8",
   "metadata": {},
   "outputs": [
    {
     "name": "stdout",
     "output_type": "stream",
     "text": [
      "Index(['id', 'title', 'genre', 'original_language', 'overview', 'popularity',\n",
      "       'release_date', 'vote_average', 'vote_count'],\n",
      "      dtype='object')\n"
     ]
    }
   ],
   "source": [
    "d=df.columns\n",
    "print(d)"
   ]
  },
  {
   "cell_type": "code",
   "execution_count": 30,
   "id": "2cd21e5d",
   "metadata": {},
   "outputs": [],
   "source": [
    "e=df[['id','title','genre','overview']]"
   ]
  },
  {
   "cell_type": "code",
   "execution_count": 31,
   "id": "bfdbd7d8",
   "metadata": {},
   "outputs": [
    {
     "name": "stdout",
     "output_type": "stream",
     "text": [
      "          id                                          title  \\\n",
      "0        278                       The Shawshank Redemption   \n",
      "1      19404                    Dilwale Dulhania Le Jayenge   \n",
      "2        238                                  The Godfather   \n",
      "3        424                               Schindler's List   \n",
      "4        240                         The Godfather: Part II   \n",
      "...      ...                                            ...   \n",
      "9995   10196                             The Last Airbender   \n",
      "9996  331446                       Sharknado 3: Oh Hell No!   \n",
      "9997   13995                                Captain America   \n",
      "9998    2312  In the Name of the King: A Dungeon Siege Tale   \n",
      "9999  455957                                         Domino   \n",
      "\n",
      "                                                 genre  \\\n",
      "0                                          Drama,Crime   \n",
      "1                                 Comedy,Drama,Romance   \n",
      "2                                          Drama,Crime   \n",
      "3                                    Drama,History,War   \n",
      "4                                          Drama,Crime   \n",
      "...                                                ...   \n",
      "9995                          Action,Adventure,Fantasy   \n",
      "9996  Action,TV Movie,Science Fiction,Comedy,Adventure   \n",
      "9997                        Action,Science Fiction,War   \n",
      "9998                    Adventure,Fantasy,Action,Drama   \n",
      "9999                             Thriller,Action,Crime   \n",
      "\n",
      "                                               overview  \\\n",
      "0     Framed in the 1940s for the double murder of h...   \n",
      "1     Raj is a rich, carefree, happy-go-lucky second...   \n",
      "2     Spanning the years 1945 to 1955, a chronicle o...   \n",
      "3     The true story of how businessman Oskar Schind...   \n",
      "4     In the continuing saga of the Corleone crime f...   \n",
      "...                                                 ...   \n",
      "9995  The story follows the adventures of Aang, a yo...   \n",
      "9996  The sharks take bite out of the East Coast whe...   \n",
      "9997  During World War II, a brave, patriotic Americ...   \n",
      "9998  A man named Farmer sets out to rescue his kidn...   \n",
      "9999  Seeking justice for his partner’s murder by an...   \n",
      "\n",
      "                                                   tags  \n",
      "0     Drama,CrimeFramed in the 1940s for the double ...  \n",
      "1     Comedy,Drama,RomanceRaj is a rich, carefree, h...  \n",
      "2     Drama,CrimeSpanning the years 1945 to 1955, a ...  \n",
      "3     Drama,History,WarThe true story of how busines...  \n",
      "4     Drama,CrimeIn the continuing saga of the Corle...  \n",
      "...                                                 ...  \n",
      "9995  Action,Adventure,FantasyThe story follows the ...  \n",
      "9996  Action,TV Movie,Science Fiction,Comedy,Adventu...  \n",
      "9997  Action,Science Fiction,WarDuring World War II,...  \n",
      "9998  Adventure,Fantasy,Action,DramaA man named Farm...  \n",
      "9999  Thriller,Action,CrimeSeeking justice for his p...  \n",
      "\n",
      "[10000 rows x 5 columns]\n"
     ]
    },
    {
     "name": "stderr",
     "output_type": "stream",
     "text": [
      "<ipython-input-31-75dbb42d13ae>:1: SettingWithCopyWarning: \n",
      "A value is trying to be set on a copy of a slice from a DataFrame.\n",
      "Try using .loc[row_indexer,col_indexer] = value instead\n",
      "\n",
      "See the caveats in the documentation: https://pandas.pydata.org/pandas-docs/stable/user_guide/indexing.html#returning-a-view-versus-a-copy\n",
      "  e['tags']=e['genre']+e['overview']\n"
     ]
    }
   ],
   "source": [
    "e['tags']=e['genre']+e['overview']\n",
    "print(e)"
   ]
  },
  {
   "cell_type": "code",
   "execution_count": 32,
   "id": "f20d6ca3",
   "metadata": {},
   "outputs": [
    {
     "name": "stdout",
     "output_type": "stream",
     "text": [
      "          id                                          title  \\\n",
      "0        278                       The Shawshank Redemption   \n",
      "1      19404                    Dilwale Dulhania Le Jayenge   \n",
      "2        238                                  The Godfather   \n",
      "3        424                               Schindler's List   \n",
      "4        240                         The Godfather: Part II   \n",
      "...      ...                                            ...   \n",
      "9995   10196                             The Last Airbender   \n",
      "9996  331446                       Sharknado 3: Oh Hell No!   \n",
      "9997   13995                                Captain America   \n",
      "9998    2312  In the Name of the King: A Dungeon Siege Tale   \n",
      "9999  455957                                         Domino   \n",
      "\n",
      "                                                   tags  \n",
      "0     Drama,CrimeFramed in the 1940s for the double ...  \n",
      "1     Comedy,Drama,RomanceRaj is a rich, carefree, h...  \n",
      "2     Drama,CrimeSpanning the years 1945 to 1955, a ...  \n",
      "3     Drama,History,WarThe true story of how busines...  \n",
      "4     Drama,CrimeIn the continuing saga of the Corle...  \n",
      "...                                                 ...  \n",
      "9995  Action,Adventure,FantasyThe story follows the ...  \n",
      "9996  Action,TV Movie,Science Fiction,Comedy,Adventu...  \n",
      "9997  Action,Science Fiction,WarDuring World War II,...  \n",
      "9998  Adventure,Fantasy,Action,DramaA man named Farm...  \n",
      "9999  Thriller,Action,CrimeSeeking justice for his p...  \n",
      "\n",
      "[10000 rows x 3 columns]\n"
     ]
    }
   ],
   "source": [
    "movies=e.drop(columns=['overview','genre'])\n",
    "print(movies)"
   ]
  },
  {
   "cell_type": "code",
   "execution_count": 33,
   "id": "d0ead9c7",
   "metadata": {},
   "outputs": [
    {
     "name": "stdout",
     "output_type": "stream",
     "text": [
      "[[0 0 0 ... 0 0 0]\n",
      " [0 0 0 ... 0 0 0]\n",
      " [0 0 0 ... 0 0 0]\n",
      " ...\n",
      " [0 0 0 ... 0 0 0]\n",
      " [0 0 0 ... 0 0 0]\n",
      " [0 0 0 ... 0 0 0]]\n"
     ]
    }
   ],
   "source": [
    "from sklearn.feature_extraction.text import CountVectorizer\n",
    "cv=CountVectorizer(max_features=10000,stop_words='english')\n",
    "x=cv.fit_transform(movies['tags'].values.astype('U')).toarray()\n",
    "print(x)"
   ]
  },
  {
   "cell_type": "code",
   "execution_count": 37,
   "id": "6f20b5a4",
   "metadata": {},
   "outputs": [
    {
     "name": "stdout",
     "output_type": "stream",
     "text": [
      "[[1.         0.06253054 0.05802589 ... 0.07963978 0.07597372 0.03798686]\n",
      " [0.06253054 1.         0.08980265 ... 0.         0.         0.        ]\n",
      " [0.05802589 0.08980265 1.         ... 0.02541643 0.03636965 0.        ]\n",
      " ...\n",
      " [0.07963978 0.         0.02541643 ... 1.         0.03327792 0.03327792]\n",
      " [0.07597372 0.         0.03636965 ... 0.03327792 1.         0.04761905]\n",
      " [0.03798686 0.         0.         ... 0.03327792 0.04761905 1.        ]]\n"
     ]
    }
   ],
   "source": [
    "from sklearn.metrics.pairwise import cosine_similarity\n",
    "sim=cosine_similarity(x)\n",
    "print(sim)"
   ]
  },
  {
   "cell_type": "code",
   "execution_count": null,
   "id": "96f63638",
   "metadata": {},
   "outputs": [],
   "source": [
    "def recommand(df):\n",
    "    index=movies[movies['title']==df].index[0]\n",
    "    main=sorted(list(enumerate(sim[index])),reverse=True,key=lambda vector:vector[1])\n",
    "    for i in main[0:5]:\n",
    "        print(movies.iloc[i[0]].title)"
   ]
  },
  {
   "cell_type": "code",
   "execution_count": 61,
   "id": "399aa2be",
   "metadata": {},
   "outputs": [
    {
     "name": "stdout",
     "output_type": "stream",
     "text": [
      "Dilwale Dulhania Le Jayenge\n",
      "The Cheetah Girls: One World\n",
      "A Passage to India\n",
      "Fatal Attraction\n",
      "Noelle\n"
     ]
    }
   ],
   "source": [
    "recommand('Dilwale Dulhania Le Jayenge')"
   ]
  },
  {
   "cell_type": "code",
   "execution_count": 66,
   "id": "f8b3587c",
   "metadata": {},
   "outputs": [
    {
     "name": "stdout",
     "output_type": "stream",
     "text": [
      "          id                                          title  \\\n",
      "0        278                       The Shawshank Redemption   \n",
      "1      19404                    Dilwale Dulhania Le Jayenge   \n",
      "2        238                                  The Godfather   \n",
      "3        424                               Schindler's List   \n",
      "4        240                         The Godfather: Part II   \n",
      "...      ...                                            ...   \n",
      "9995   10196                             The Last Airbender   \n",
      "9996  331446                       Sharknado 3: Oh Hell No!   \n",
      "9997   13995                                Captain America   \n",
      "9998    2312  In the Name of the King: A Dungeon Siege Tale   \n",
      "9999  455957                                         Domino   \n",
      "\n",
      "                                                   tags  \n",
      "0     Drama,CrimeFramed in the 1940s for the double ...  \n",
      "1     Comedy,Drama,RomanceRaj is a rich, carefree, h...  \n",
      "2     Drama,CrimeSpanning the years 1945 to 1955, a ...  \n",
      "3     Drama,History,WarThe true story of how busines...  \n",
      "4     Drama,CrimeIn the continuing saga of the Corle...  \n",
      "...                                                 ...  \n",
      "9995  Action,Adventure,FantasyThe story follows the ...  \n",
      "9996  Action,TV Movie,Science Fiction,Comedy,Adventu...  \n",
      "9997  Action,Science Fiction,WarDuring World War II,...  \n",
      "9998  Adventure,Fantasy,Action,DramaA man named Farm...  \n",
      "9999  Thriller,Action,CrimeSeeking justice for his p...  \n",
      "\n",
      "[10000 rows x 3 columns]\n"
     ]
    }
   ],
   "source": [
    "import pickle\n",
    "pickle.dump(movies,open('df_list.pkl','wb'))\n",
    "pickle.dump(sim,open('sim_list.pkl','wb'))\n",
    "p=pickle.load(open('df_list.pkl','rb'))\n",
    "print(p)"
   ]
  },
  {
   "cell_type": "code",
   "execution_count": null,
   "id": "ecebe68a",
   "metadata": {},
   "outputs": [],
   "source": []
  },
  {
   "cell_type": "code",
   "execution_count": null,
   "id": "94c2fc80",
   "metadata": {},
   "outputs": [],
   "source": []
  }
 ],
 "metadata": {
  "kernelspec": {
   "display_name": "Python 3",
   "language": "python",
   "name": "python3"
  },
  "language_info": {
   "codemirror_mode": {
    "name": "ipython",
    "version": 3
   },
   "file_extension": ".py",
   "mimetype": "text/x-python",
   "name": "python",
   "nbconvert_exporter": "python",
   "pygments_lexer": "ipython3",
   "version": "3.8.8"
  }
 },
 "nbformat": 4,
 "nbformat_minor": 5
}
